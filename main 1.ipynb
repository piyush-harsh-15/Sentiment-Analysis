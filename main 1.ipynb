{
 "cells": [
  {
   "cell_type": "markdown",
   "id": "f1cb24e9",
   "metadata": {},
   "source": [
    "# Data Cleaning"
   ]
  },
  {
   "cell_type": "raw",
   "id": "8fd720ec",
   "metadata": {},
   "source": [
    "Step 1: Read the text file.\n",
    "Step 2: convert the letter into lowercase.\n",
    "Step 3: Remove all punctuations. "
   ]
  },
  {
   "cell_type": "raw",
   "id": "ae0db24b",
   "metadata": {},
   "source": [
    "Step 1: Reading the file."
   ]
  },
  {
   "cell_type": "code",
   "execution_count": 1,
   "id": "9cc04622",
   "metadata": {},
   "outputs": [],
   "source": [
    "text = open(\"read.txt\", encoding = 'utf-8').read()"
   ]
  },
  {
   "cell_type": "code",
   "execution_count": 2,
   "id": "a450a96f",
   "metadata": {},
   "outputs": [
    {
     "name": "stdout",
     "output_type": "stream",
     "text": [
      "A very cheerful good morning to the principal, all teachers, staff members, and students. How charming and beautiful is today’s sunrise and indeed, every sunrise is a new opportunity we should not miss it, we should wake up and enjoy the sun. I hope you all have started your day with a positive attitude, full energy, and a smile.\n",
      "\n",
      "A new morning is a new beginning and a new hope. We all need to give full efforts and have the perseverance to achieve our goals and there isn’t any shortcut to achieve success. A small positive thought can change our whole day, and starting your day with positive thoughts and discipline can change your life.\n",
      "\n",
      "Moreover, starting your day positively is quite essential and if you start your day in a positive mood, you will remain happy and disciplined throughout the day. You can start your morning with positive thoughts and take a moment for personal gratitude. Be grateful for whatever you have, if you express gratitude about your life, you will feel more optimistic and happier about your life. Respect yourself, your parents, your teachers, and everyone in your surrounding be a kind person and a very organized student.\n",
      "\n",
      "Set some goals for your school time and after-school activities, because creating goals for your day not only sets you on the right track to success but also helps you feel happier and organized as well. Create a list of things you hope to accomplish throughout the day, set a timelimit, and show efforts to achieve those goals throughout the day.\n",
      "\n",
      "You all should feel guilty to be in the learning environment here, where millions of children do not get to go to school. You all come to school every day with clean clothes, complete school material, and money to buy food. We should be honored that all our instructors are qualified enough and are the best teachers to help you learn something new every day. Remember, we do not just learn here in the school to read and write, but we should learn a way to live our life here, we learn how to carry on ourselves in the world out there and how to live an admirable life.\n",
      "\n",
      "I hope that when you attend your classes after the assembly, you may fizzing with enthusiasm, excitement, and passion to learn something new and have a lot of funs throughout the day. Thank you everyone for listening and for organizing such a marvelous and an organized morning assembly. Now move to your respective classes and have a nice day!\n"
     ]
    }
   ],
   "source": [
    "print(text)"
   ]
  },
  {
   "cell_type": "raw",
   "id": "43bc7e00",
   "metadata": {},
   "source": [
    "Step2: Converting to lowercase "
   ]
  },
  {
   "cell_type": "code",
   "execution_count": 3,
   "id": "c28285e3",
   "metadata": {},
   "outputs": [
    {
     "name": "stdout",
     "output_type": "stream",
     "text": [
      "a very cheerful good morning to the principal, all teachers, staff members, and students. how charming and beautiful is today’s sunrise and indeed, every sunrise is a new opportunity we should not miss it, we should wake up and enjoy the sun. i hope you all have started your day with a positive attitude, full energy, and a smile.\n",
      "\n",
      "a new morning is a new beginning and a new hope. we all need to give full efforts and have the perseverance to achieve our goals and there isn’t any shortcut to achieve success. a small positive thought can change our whole day, and starting your day with positive thoughts and discipline can change your life.\n",
      "\n",
      "moreover, starting your day positively is quite essential and if you start your day in a positive mood, you will remain happy and disciplined throughout the day. you can start your morning with positive thoughts and take a moment for personal gratitude. be grateful for whatever you have, if you express gratitude about your life, you will feel more optimistic and happier about your life. respect yourself, your parents, your teachers, and everyone in your surrounding be a kind person and a very organized student.\n",
      "\n",
      "set some goals for your school time and after-school activities, because creating goals for your day not only sets you on the right track to success but also helps you feel happier and organized as well. create a list of things you hope to accomplish throughout the day, set a timelimit, and show efforts to achieve those goals throughout the day.\n",
      "\n",
      "you all should feel guilty to be in the learning environment here, where millions of children do not get to go to school. you all come to school every day with clean clothes, complete school material, and money to buy food. we should be honored that all our instructors are qualified enough and are the best teachers to help you learn something new every day. remember, we do not just learn here in the school to read and write, but we should learn a way to live our life here, we learn how to carry on ourselves in the world out there and how to live an admirable life.\n",
      "\n",
      "i hope that when you attend your classes after the assembly, you may fizzing with enthusiasm, excitement, and passion to learn something new and have a lot of funs throughout the day. thank you everyone for listening and for organizing such a marvelous and an organized morning assembly. now move to your respective classes and have a nice day!\n"
     ]
    }
   ],
   "source": [
    "lower_case = text.lower()\n",
    "print(lower_case)"
   ]
  },
  {
   "cell_type": "raw",
   "id": "8169ae30",
   "metadata": {},
   "source": [
    "Step 3: Removing Punctuations."
   ]
  },
  {
   "cell_type": "code",
   "execution_count": 4,
   "id": "44a8d985",
   "metadata": {},
   "outputs": [
    {
     "name": "stdout",
     "output_type": "stream",
     "text": [
      "a very cheerful good morning to the principal all teachers staff members and students how charming and beautiful is today’s sunrise and indeed every sunrise is a new opportunity we should not miss it we should wake up and enjoy the sun i hope you all have started your day with a positive attitude full energy and a smile\n",
      "\n",
      "a new morning is a new beginning and a new hope we all need to give full efforts and have the perseverance to achieve our goals and there isn’t any shortcut to achieve success a small positive thought can change our whole day and starting your day with positive thoughts and discipline can change your life\n",
      "\n",
      "moreover starting your day positively is quite essential and if you start your day in a positive mood you will remain happy and disciplined throughout the day you can start your morning with positive thoughts and take a moment for personal gratitude be grateful for whatever you have if you express gratitude about your life you will feel more optimistic and happier about your life respect yourself your parents your teachers and everyone in your surrounding be a kind person and a very organized student\n",
      "\n",
      "set some goals for your school time and afterschool activities because creating goals for your day not only sets you on the right track to success but also helps you feel happier and organized as well create a list of things you hope to accomplish throughout the day set a timelimit and show efforts to achieve those goals throughout the day\n",
      "\n",
      "you all should feel guilty to be in the learning environment here where millions of children do not get to go to school you all come to school every day with clean clothes complete school material and money to buy food we should be honored that all our instructors are qualified enough and are the best teachers to help you learn something new every day remember we do not just learn here in the school to read and write but we should learn a way to live our life here we learn how to carry on ourselves in the world out there and how to live an admirable life\n",
      "\n",
      "i hope that when you attend your classes after the assembly you may fizzing with enthusiasm excitement and passion to learn something new and have a lot of funs throughout the day thank you everyone for listening and for organizing such a marvelous and an organized morning assembly now move to your respective classes and have a nice day\n"
     ]
    }
   ],
   "source": [
    "import string\n",
    "\n",
    "cleaned_text = lower_case.translate(str.maketrans('','', string.punctuation))\n",
    "print(cleaned_text)"
   ]
  },
  {
   "cell_type": "raw",
   "id": "def71bbb",
   "metadata": {},
   "source": [
    "we have imported string to use translate() method."
   ]
  },
  {
   "cell_type": "markdown",
   "id": "3c67b0a8",
   "metadata": {},
   "source": [
    "# Tokenisation and Stop Words"
   ]
  },
  {
   "cell_type": "code",
   "execution_count": 5,
   "id": "bdbcb0dc",
   "metadata": {},
   "outputs": [
    {
     "name": "stdout",
     "output_type": "stream",
     "text": [
      "['a', 'very', 'cheerful', 'good', 'morning', 'to', 'the', 'principal', 'all', 'teachers', 'staff', 'members', 'and', 'students', 'how', 'charming', 'and', 'beautiful', 'is', 'today’s', 'sunrise', 'and', 'indeed', 'every', 'sunrise', 'is', 'a', 'new', 'opportunity', 'we', 'should', 'not', 'miss', 'it', 'we', 'should', 'wake', 'up', 'and', 'enjoy', 'the', 'sun', 'i', 'hope', 'you', 'all', 'have', 'started', 'your', 'day', 'with', 'a', 'positive', 'attitude', 'full', 'energy', 'and', 'a', 'smile', 'a', 'new', 'morning', 'is', 'a', 'new', 'beginning', 'and', 'a', 'new', 'hope', 'we', 'all', 'need', 'to', 'give', 'full', 'efforts', 'and', 'have', 'the', 'perseverance', 'to', 'achieve', 'our', 'goals', 'and', 'there', 'isn’t', 'any', 'shortcut', 'to', 'achieve', 'success', 'a', 'small', 'positive', 'thought', 'can', 'change', 'our', 'whole', 'day', 'and', 'starting', 'your', 'day', 'with', 'positive', 'thoughts', 'and', 'discipline', 'can', 'change', 'your', 'life', 'moreover', 'starting', 'your', 'day', 'positively', 'is', 'quite', 'essential', 'and', 'if', 'you', 'start', 'your', 'day', 'in', 'a', 'positive', 'mood', 'you', 'will', 'remain', 'happy', 'and', 'disciplined', 'throughout', 'the', 'day', 'you', 'can', 'start', 'your', 'morning', 'with', 'positive', 'thoughts', 'and', 'take', 'a', 'moment', 'for', 'personal', 'gratitude', 'be', 'grateful', 'for', 'whatever', 'you', 'have', 'if', 'you', 'express', 'gratitude', 'about', 'your', 'life', 'you', 'will', 'feel', 'more', 'optimistic', 'and', 'happier', 'about', 'your', 'life', 'respect', 'yourself', 'your', 'parents', 'your', 'teachers', 'and', 'everyone', 'in', 'your', 'surrounding', 'be', 'a', 'kind', 'person', 'and', 'a', 'very', 'organized', 'student', 'set', 'some', 'goals', 'for', 'your', 'school', 'time', 'and', 'afterschool', 'activities', 'because', 'creating', 'goals', 'for', 'your', 'day', 'not', 'only', 'sets', 'you', 'on', 'the', 'right', 'track', 'to', 'success', 'but', 'also', 'helps', 'you', 'feel', 'happier', 'and', 'organized', 'as', 'well', 'create', 'a', 'list', 'of', 'things', 'you', 'hope', 'to', 'accomplish', 'throughout', 'the', 'day', 'set', 'a', 'timelimit', 'and', 'show', 'efforts', 'to', 'achieve', 'those', 'goals', 'throughout', 'the', 'day', 'you', 'all', 'should', 'feel', 'guilty', 'to', 'be', 'in', 'the', 'learning', 'environment', 'here', 'where', 'millions', 'of', 'children', 'do', 'not', 'get', 'to', 'go', 'to', 'school', 'you', 'all', 'come', 'to', 'school', 'every', 'day', 'with', 'clean', 'clothes', 'complete', 'school', 'material', 'and', 'money', 'to', 'buy', 'food', 'we', 'should', 'be', 'honored', 'that', 'all', 'our', 'instructors', 'are', 'qualified', 'enough', 'and', 'are', 'the', 'best', 'teachers', 'to', 'help', 'you', 'learn', 'something', 'new', 'every', 'day', 'remember', 'we', 'do', 'not', 'just', 'learn', 'here', 'in', 'the', 'school', 'to', 'read', 'and', 'write', 'but', 'we', 'should', 'learn', 'a', 'way', 'to', 'live', 'our', 'life', 'here', 'we', 'learn', 'how', 'to', 'carry', 'on', 'ourselves', 'in', 'the', 'world', 'out', 'there', 'and', 'how', 'to', 'live', 'an', 'admirable', 'life', 'i', 'hope', 'that', 'when', 'you', 'attend', 'your', 'classes', 'after', 'the', 'assembly', 'you', 'may', 'fizzing', 'with', 'enthusiasm', 'excitement', 'and', 'passion', 'to', 'learn', 'something', 'new', 'and', 'have', 'a', 'lot', 'of', 'funs', 'throughout', 'the', 'day', 'thank', 'you', 'everyone', 'for', 'listening', 'and', 'for', 'organizing', 'such', 'a', 'marvelous', 'and', 'an', 'organized', 'morning', 'assembly', 'now', 'move', 'to', 'your', 'respective', 'classes', 'and', 'have', 'a', 'nice', 'day']\n"
     ]
    }
   ],
   "source": [
    "tokenized_words = cleaned_text.split()\n",
    "print(tokenized_words)"
   ]
  },
  {
   "cell_type": "code",
   "execution_count": 6,
   "id": "5ba05640",
   "metadata": {},
   "outputs": [],
   "source": [
    "stop_words = [\"i\", \"me\", \"my\", \"myself\", \"we\", \"our\", \"ours\", \"ourselves\", \"you\", \"your\", \"yours\", \"yourself\",\n",
    "              \"yourselves\", \"he\", \"him\", \"his\", \"himself\", \"she\", \"her\", \"hers\", \"herself\", \"it\", \"its\", \"itself\",\n",
    "              \"they\", \"them\", \"their\", \"theirs\", \"themselves\", \"what\", \"which\", \"who\", \"whom\", \"this\", \"that\", \"these\",\n",
    "              \"those\", \"am\", \"is\", \"are\", \"was\", \"were\", \"be\", \"been\", \"being\", \"have\", \"has\", \"had\", \"having\", \"do\",\n",
    "              \"does\", \"did\", \"doing\", \"a\", \"an\", \"the\", \"and\", \"but\", \"if\", \"or\", \"because\", \"as\", \"until\", \"while\",\n",
    "              \"of\", \"at\", \"by\", \"for\", \"with\", \"about\", \"against\", \"between\", \"into\", \"through\", \"during\", \"before\",\n",
    "              \"after\", \"above\", \"below\", \"to\", \"from\", \"up\", \"down\", \"in\", \"out\", \"on\", \"off\", \"over\", \"under\", \"again\",\n",
    "              \"further\", \"then\", \"once\", \"here\", \"there\", \"when\", \"where\", \"why\", \"how\", \"all\", \"any\", \"both\", \"each\",\n",
    "             \"few\", \"more\", \"most\", \"other\", \"some\", \"such\", \"no\", \"nor\", \"not\", \"only\", \"own\", \"same\", \"so\", \"than\",\n",
    "              \"too\", \"very\", \"s\", \"t\", \"can\", \"will\", \"just\", \"don\", \"should\", \"now\"]"
   ]
  },
  {
   "cell_type": "code",
   "execution_count": 7,
   "id": "f18fafa2",
   "metadata": {},
   "outputs": [
    {
     "name": "stdout",
     "output_type": "stream",
     "text": [
      "['cheerful', 'good', 'morning', 'principal', 'teachers', 'staff', 'members', 'students', 'charming', 'beautiful', 'today’s', 'sunrise', 'indeed', 'every', 'sunrise', 'new', 'opportunity', 'miss', 'wake', 'enjoy', 'sun', 'hope', 'started', 'day', 'positive', 'attitude', 'full', 'energy', 'smile', 'new', 'morning', 'new', 'beginning', 'new', 'hope', 'need', 'give', 'full', 'efforts', 'perseverance', 'achieve', 'goals', 'isn’t', 'shortcut', 'achieve', 'success', 'small', 'positive', 'thought', 'change', 'whole', 'day', 'starting', 'day', 'positive', 'thoughts', 'discipline', 'change', 'life', 'moreover', 'starting', 'day', 'positively', 'quite', 'essential', 'start', 'day', 'positive', 'mood', 'remain', 'happy', 'disciplined', 'throughout', 'day', 'start', 'morning', 'positive', 'thoughts', 'take', 'moment', 'personal', 'gratitude', 'grateful', 'whatever', 'express', 'gratitude', 'life', 'feel', 'optimistic', 'happier', 'life', 'respect', 'parents', 'teachers', 'everyone', 'surrounding', 'kind', 'person', 'organized', 'student', 'set', 'goals', 'school', 'time', 'afterschool', 'activities', 'creating', 'goals', 'day', 'sets', 'right', 'track', 'success', 'also', 'helps', 'feel', 'happier', 'organized', 'well', 'create', 'list', 'things', 'hope', 'accomplish', 'throughout', 'day', 'set', 'timelimit', 'show', 'efforts', 'achieve', 'goals', 'throughout', 'day', 'feel', 'guilty', 'learning', 'environment', 'millions', 'children', 'get', 'go', 'school', 'come', 'school', 'every', 'day', 'clean', 'clothes', 'complete', 'school', 'material', 'money', 'buy', 'food', 'honored', 'instructors', 'qualified', 'enough', 'best', 'teachers', 'help', 'learn', 'something', 'new', 'every', 'day', 'remember', 'learn', 'school', 'read', 'write', 'learn', 'way', 'live', 'life', 'learn', 'carry', 'world', 'live', 'admirable', 'life', 'hope', 'attend', 'classes', 'assembly', 'may', 'fizzing', 'enthusiasm', 'excitement', 'passion', 'learn', 'something', 'new', 'lot', 'funs', 'throughout', 'day', 'thank', 'everyone', 'listening', 'organizing', 'marvelous', 'organized', 'morning', 'assembly', 'move', 'respective', 'classes', 'nice', 'day']\n"
     ]
    }
   ],
   "source": [
    "final_words = []\n",
    "\n",
    "for word in tokenized_words:\n",
    "    if word not in stop_words:\n",
    "        final_words.append(word)\n",
    "        \n",
    "print(final_words)"
   ]
  },
  {
   "cell_type": "markdown",
   "id": "cbfd7a1a",
   "metadata": {},
   "source": [
    "# Text Analysis"
   ]
  },
  {
   "cell_type": "raw",
   "id": "a72b4bf1",
   "metadata": {},
   "source": [
    "NLP Emotion Algorithm\n",
    "1) Check if the word in the final word list is also present in Emotions\n",
    "  - open the emotion file\n",
    "  - Loop through each line and clear it\n",
    "  - Extract the word and emotion using split\n",
    "\n",
    "2) If word is present -> Add the emotion to emotion_list\n",
    "3) Finally count each emotion in the emotion list"
   ]
  },
  {
   "cell_type": "code",
   "execution_count": 8,
   "id": "0bf95b3d",
   "metadata": {},
   "outputs": [
    {
     "name": "stdout",
     "output_type": "stream",
     "text": [
      "[' happy', ' singled out', ' happy', ' adequate']\n"
     ]
    }
   ],
   "source": [
    "emotion_list = []\n",
    "\n",
    "with open('Emotions', 'r') as file:\n",
    "    for line in file:\n",
    "        clear_line = line.replace('\\n', '').replace(',','').replace(\"'\",'').strip()\n",
    "        #print(clear_line)\n",
    "        word, emotion = clear_line.split(':')\n",
    "        #print(\"word: \" +word+ \", \" + \"Emotion: \" +emotion)\n",
    "        \n",
    "        if word in final_words:\n",
    "            emotion_list.append(emotion)\n",
    "\n",
    "print(emotion_list)"
   ]
  },
  {
   "cell_type": "code",
   "execution_count": 9,
   "id": "35dd20cd",
   "metadata": {},
   "outputs": [],
   "source": [
    "from collections import Counter"
   ]
  },
  {
   "cell_type": "code",
   "execution_count": 11,
   "id": "1418f094",
   "metadata": {},
   "outputs": [
    {
     "name": "stdout",
     "output_type": "stream",
     "text": [
      "Counter({' happy': 2, ' singled out': 1, ' adequate': 1})\n"
     ]
    }
   ],
   "source": [
    "w = Counter(emotion_list)\n",
    "print(w)"
   ]
  },
  {
   "cell_type": "code",
   "execution_count": 12,
   "id": "584b2518",
   "metadata": {},
   "outputs": [],
   "source": [
    "import matplotlib.pyplot as plt"
   ]
  },
  {
   "cell_type": "code",
   "execution_count": 14,
   "id": "4d5e2051",
   "metadata": {},
   "outputs": [
    {
     "data": {
      "image/png": "[encoded data removed]",
      "text/plain": [
       "<Figure size 432x288 with 1 Axes>"
      ]
     },
     "metadata": {
      "needs_background": "light"
     },
     "output_type": "display_data"
    }
   ],
   "source": [
    "fig, axl = plt.subplots()\n",
    "axl.bar(w.keys(), w.values())\n",
    "fig.autofmt_xdate()\n",
    "plt.savefig(\"graph2.png\")\n",
    "plt.show()"
   ]
  },
  {
   "cell_type": "code",
   "execution_count": null,
   "id": "abd62f9e",
   "metadata": {},
   "outputs": [],
   "source": []
  }
 ],
 "metadata": {
  "kernelspec": {
   "display_name": "Python 3 (ipykernel)",
   "language": "python",
   "name": "python3"
  },
  "language_info": {
   "codemirror_mode": {
    "name": "ipython",
    "version": 3
   },
   "file_extension": ".py",
   "mimetype": "text/x-python",
   "name": "python",
   "nbconvert_exporter": "python",
   "pygments_lexer": "ipython3",
   "version": "3.9.5"
  }
 },
 "nbformat": 4,
 "nbformat_minor": 5
}
