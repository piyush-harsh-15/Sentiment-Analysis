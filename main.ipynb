{
 "cells": [
  {
   "cell_type": "markdown",
   "id": "dc74089c",
   "metadata": {},
   "source": [
    "# Cleaning Text"
   ]
  },
  {
   "cell_type": "raw",
   "id": "06070afa",
   "metadata": {},
   "source": [
    "Step 1: Read the text file.\n",
    "Step 2: convert the letter into lowercase.\n",
    "Step 3: Remove all punctuations. "
   ]
  },
  {
   "cell_type": "code",
   "execution_count": 1,
   "id": "a0783af8",
   "metadata": {},
   "outputs": [],
   "source": [
    "text = open(\"The Hindu\", encoding = 'utf-8').read()"
   ]
  },
  {
   "cell_type": "code",
   "execution_count": 2,
   "id": "ca72047a",
   "metadata": {},
   "outputs": [
    {
     "name": "stdout",
     "output_type": "stream",
     "text": [
      "The deaths in the last few days of at least 25 people in Bihar’s Gopalganj and West Champaran districts and five in Muzaffarpur apart from several others taking ill after consuming spurious liquor points to the unintended but not unexpected consequences of the total prohibition law that has been in effect in the State for more than five years. Hooch tragedies such as these are a consequence of the unregulated production and sale of liquor via the black market, and the use of illicit liquor as a substitute due to the lack of the sale of over-the-counter and regulated drinks. Prohibition as a policy has been shown up as inadequate to curb the problem of alcoholism and the havoc wreaked by it on households due to excessive consumption for a variety of reasons in State after State. In Bihar, implementation has not been without immense public support, especially among rural women. Yet, despite significant steps taken to enhance enforcement by officials from the excise department, the police and local administration — over 3.46 lakh people arrested in the last five years and close to 150 lakh litres of country-made and Indian Made Foreign Liquor being seized from April 2016 to February 2021 — weaknesses in imposing the ban persist. It is well known that one of the negative externalities of prohibition is the creation of a parallel bootlegger economy that could lead to an increase in violent crime, and this seems to be borne out in Bihar as well.\n",
      "\n",
      "The Chief Minister, Nitish Kumar, has been the strongest proponent of prohibition in the State and the policy has reaped electoral dividends for his party, the Janata Dal (United) and its ally, the Bharatiya Janata Party, as rural women have overwhelmingly welcomed the ban on alcohol. While initially, the ban on alcohol consumption helped rural households increase expenditure on basic goods related to food and education, there are reports from rural Bihar showing how these benefits have waned as spurious consumption is on the rise. Reportedly, illicit liquor in the State claimed at least 60 lives in 2021, much higher than the six deaths recorded by the National Crime Records Bureau’s report on accidental deaths and suicides in India in 2020. The scale of the rise in hooch incidents and deaths should set alarm bells ringing about the inability of the administration in curbing the black market in liquor sales and consumption. Mr. Kumar insists that the success of prohibition is only a matter of implementation of the law and in a way has blamed the deaths on the ignorance of those who consumed spurious liquor. But the fact that these deaths persist should alert the government to the misgivings with the idea of total prohibition as a magic bullet in a State marked by weaknesses in institutions and low overall human development.\n"
     ]
    }
   ],
   "source": [
    "print(text)"
   ]
  },
  {
   "cell_type": "code",
   "execution_count": 3,
   "id": "0f27be57",
   "metadata": {},
   "outputs": [
    {
     "name": "stdout",
     "output_type": "stream",
     "text": [
      "the deaths in the last few days of at least 25 people in bihar’s gopalganj and west champaran districts and five in muzaffarpur apart from several others taking ill after consuming spurious liquor points to the unintended but not unexpected consequences of the total prohibition law that has been in effect in the state for more than five years. hooch tragedies such as these are a consequence of the unregulated production and sale of liquor via the black market, and the use of illicit liquor as a substitute due to the lack of the sale of over-the-counter and regulated drinks. prohibition as a policy has been shown up as inadequate to curb the problem of alcoholism and the havoc wreaked by it on households due to excessive consumption for a variety of reasons in state after state. in bihar, implementation has not been without immense public support, especially among rural women. yet, despite significant steps taken to enhance enforcement by officials from the excise department, the police and local administration — over 3.46 lakh people arrested in the last five years and close to 150 lakh litres of country-made and indian made foreign liquor being seized from april 2016 to february 2021 — weaknesses in imposing the ban persist. it is well known that one of the negative externalities of prohibition is the creation of a parallel bootlegger economy that could lead to an increase in violent crime, and this seems to be borne out in bihar as well.\n",
      "\n",
      "the chief minister, nitish kumar, has been the strongest proponent of prohibition in the state and the policy has reaped electoral dividends for his party, the janata dal (united) and its ally, the bharatiya janata party, as rural women have overwhelmingly welcomed the ban on alcohol. while initially, the ban on alcohol consumption helped rural households increase expenditure on basic goods related to food and education, there are reports from rural bihar showing how these benefits have waned as spurious consumption is on the rise. reportedly, illicit liquor in the state claimed at least 60 lives in 2021, much higher than the six deaths recorded by the national crime records bureau’s report on accidental deaths and suicides in india in 2020. the scale of the rise in hooch incidents and deaths should set alarm bells ringing about the inability of the administration in curbing the black market in liquor sales and consumption. mr. kumar insists that the success of prohibition is only a matter of implementation of the law and in a way has blamed the deaths on the ignorance of those who consumed spurious liquor. but the fact that these deaths persist should alert the government to the misgivings with the idea of total prohibition as a magic bullet in a state marked by weaknesses in institutions and low overall human development.\n"
     ]
    }
   ],
   "source": [
    "lower_case = text.lower()\n",
    "print(lower_case)"
   ]
  },
  {
   "cell_type": "code",
   "execution_count": 4,
   "id": "6b52939e",
   "metadata": {},
   "outputs": [],
   "source": [
    "import string\n",
    "from collections import Counter"
   ]
  },
  {
   "cell_type": "code",
   "execution_count": 5,
   "id": "109c1e69",
   "metadata": {},
   "outputs": [],
   "source": [
    "from nltk.tokenize import word_tokenize\n",
    "from nltk.corpus import stopwords\n",
    "from nltk.sentiment.vader import SentimentIntensityAnalyzer"
   ]
  },
  {
   "cell_type": "code",
   "execution_count": 6,
   "id": "3d16fac1",
   "metadata": {},
   "outputs": [],
   "source": [
    "clean_text = lower_case.translate(str.maketrans('','',string.punctuation))"
   ]
  },
  {
   "cell_type": "raw",
   "id": "4e653e83",
   "metadata": {},
   "source": [
    ".translate() method is used to convert the dtring into a string without punctuation.\n",
    "The function this method uses is str.maketrans(str1,str2,str3)\n",
    "\n",
    "str1 - specifies the list of characters that need to be replaced.\n",
    "str2 - specifies the lsit of characters with which the characters need to be replaced.\n",
    "str3 - specifies the list of characters that need to be deleted."
   ]
  },
  {
   "cell_type": "code",
   "execution_count": 7,
   "id": "2ca1bbc1",
   "metadata": {},
   "outputs": [
    {
     "name": "stdout",
     "output_type": "stream",
     "text": [
      "the deaths in the last few days of at least 25 people in bihar’s gopalganj and west champaran districts and five in muzaffarpur apart from several others taking ill after consuming spurious liquor points to the unintended but not unexpected consequences of the total prohibition law that has been in effect in the state for more than five years hooch tragedies such as these are a consequence of the unregulated production and sale of liquor via the black market and the use of illicit liquor as a substitute due to the lack of the sale of overthecounter and regulated drinks prohibition as a policy has been shown up as inadequate to curb the problem of alcoholism and the havoc wreaked by it on households due to excessive consumption for a variety of reasons in state after state in bihar implementation has not been without immense public support especially among rural women yet despite significant steps taken to enhance enforcement by officials from the excise department the police and local administration — over 346 lakh people arrested in the last five years and close to 150 lakh litres of countrymade and indian made foreign liquor being seized from april 2016 to february 2021 — weaknesses in imposing the ban persist it is well known that one of the negative externalities of prohibition is the creation of a parallel bootlegger economy that could lead to an increase in violent crime and this seems to be borne out in bihar as well\n",
      "\n",
      "the chief minister nitish kumar has been the strongest proponent of prohibition in the state and the policy has reaped electoral dividends for his party the janata dal united and its ally the bharatiya janata party as rural women have overwhelmingly welcomed the ban on alcohol while initially the ban on alcohol consumption helped rural households increase expenditure on basic goods related to food and education there are reports from rural bihar showing how these benefits have waned as spurious consumption is on the rise reportedly illicit liquor in the state claimed at least 60 lives in 2021 much higher than the six deaths recorded by the national crime records bureau’s report on accidental deaths and suicides in india in 2020 the scale of the rise in hooch incidents and deaths should set alarm bells ringing about the inability of the administration in curbing the black market in liquor sales and consumption mr kumar insists that the success of prohibition is only a matter of implementation of the law and in a way has blamed the deaths on the ignorance of those who consumed spurious liquor but the fact that these deaths persist should alert the government to the misgivings with the idea of total prohibition as a magic bullet in a state marked by weaknesses in institutions and low overall human development\n"
     ]
    }
   ],
   "source": [
    "print(clean_text)"
   ]
  },
  {
   "cell_type": "markdown",
   "id": "26cc5f53",
   "metadata": {},
   "source": [
    "# Tokenization and Stop Words"
   ]
  },
  {
   "cell_type": "code",
   "execution_count": 8,
   "id": "2074ad99",
   "metadata": {},
   "outputs": [],
   "source": [
    "tokenized_words = word_tokenize(clean_text, \"english\")\n",
    "#print(tokenized_words)"
   ]
  },
  {
   "cell_type": "code",
   "execution_count": 9,
   "id": "ab82b1f5",
   "metadata": {},
   "outputs": [],
   "source": [
    "#stop_words = [\"i\", \"me\", \"my\", \"myself\", \"we\", \"our\", \"ours\", \"ourselves\", \"you\", \"your\", \"yours\", \"yourself\",\n",
    "#              \"yourselves\", \"he\", \"him\", \"his\", \"himself\", \"she\", \"her\", \"hers\", \"herself\", \"it\", \"its\", \"itself\",\n",
    "#              \"they\", \"them\", \"their\", \"theirs\", \"themselves\", \"what\", \"which\", \"who\", \"whom\", \"this\", \"that\", \"these\",\n",
    "#              \"those\", \"am\", \"is\", \"are\", \"was\", \"were\", \"be\", \"been\", \"being\", \"have\", \"has\", \"had\", \"having\", \"do\",\n",
    "#              \"does\", \"did\", \"doing\", \"a\", \"an\", \"the\", \"and\", \"but\", \"if\", \"or\", \"because\", \"as\", \"until\", \"while\",\n",
    "#              \"of\", \"at\", \"by\", \"for\", \"with\", \"about\", \"against\", \"between\", \"into\", \"through\", \"during\", \"before\",\n",
    "#              \"after\", \"above\", \"below\", \"to\", \"from\", \"up\", \"down\", \"in\", \"out\", \"on\", \"off\", \"over\", \"under\", \"again\",\n",
    "#              \"further\", \"then\", \"once\", \"here\", \"there\", \"when\", \"where\", \"why\", \"how\", \"all\", \"any\", \"both\", \"each\",\n",
    "#              \"few\", \"more\", \"most\", \"other\", \"some\", \"such\", \"no\", \"nor\", \"not\", \"only\", \"own\", \"same\", \"so\", \"than\",\n",
    "#              \"too\", \"very\", \"s\", \"t\", \"can\", \"will\", \"just\", \"don\", \"should\", \"now\"]"
   ]
  },
  {
   "cell_type": "code",
   "execution_count": 10,
   "id": "b022c56d",
   "metadata": {},
   "outputs": [],
   "source": [
    "final_words = []"
   ]
  },
  {
   "cell_type": "code",
   "execution_count": 11,
   "id": "ff88e59e",
   "metadata": {},
   "outputs": [],
   "source": [
    "for word in tokenized_words:\n",
    "    if word not in stopwords.words('english'):\n",
    "        final_words.append(word)"
   ]
  },
  {
   "cell_type": "code",
   "execution_count": 12,
   "id": "e21f8f57",
   "metadata": {},
   "outputs": [
    {
     "name": "stdout",
     "output_type": "stream",
     "text": [
      "['deaths', 'last', 'days', 'least', '25', 'people', 'bihar', '’', 'gopalganj', 'west', 'champaran', 'districts', 'five', 'muzaffarpur', 'apart', 'several', 'others', 'taking', 'ill', 'consuming', 'spurious', 'liquor', 'points', 'unintended', 'unexpected', 'consequences', 'total', 'prohibition', 'law', 'effect', 'state', 'five', 'years', 'hooch', 'tragedies', 'consequence', 'unregulated', 'production', 'sale', 'liquor', 'via', 'black', 'market', 'use', 'illicit', 'liquor', 'substitute', 'due', 'lack', 'sale', 'overthecounter', 'regulated', 'drinks', 'prohibition', 'policy', 'shown', 'inadequate', 'curb', 'problem', 'alcoholism', 'havoc', 'wreaked', 'households', 'due', 'excessive', 'consumption', 'variety', 'reasons', 'state', 'state', 'bihar', 'implementation', 'without', 'immense', 'public', 'support', 'especially', 'among', 'rural', 'women', 'yet', 'despite', 'significant', 'steps', 'taken', 'enhance', 'enforcement', 'officials', 'excise', 'department', 'police', 'local', 'administration', '—', '346', 'lakh', 'people', 'arrested', 'last', 'five', 'years', 'close', '150', 'lakh', 'litres', 'countrymade', 'indian', 'made', 'foreign', 'liquor', 'seized', 'april', '2016', 'february', '2021', '—', 'weaknesses', 'imposing', 'ban', 'persist', 'well', 'known', 'one', 'negative', 'externalities', 'prohibition', 'creation', 'parallel', 'bootlegger', 'economy', 'could', 'lead', 'increase', 'violent', 'crime', 'seems', 'borne', 'bihar', 'well', 'chief', 'minister', 'nitish', 'kumar', 'strongest', 'proponent', 'prohibition', 'state', 'policy', 'reaped', 'electoral', 'dividends', 'party', 'janata', 'dal', 'united', 'ally', 'bharatiya', 'janata', 'party', 'rural', 'women', 'overwhelmingly', 'welcomed', 'ban', 'alcohol', 'initially', 'ban', 'alcohol', 'consumption', 'helped', 'rural', 'households', 'increase', 'expenditure', 'basic', 'goods', 'related', 'food', 'education', 'reports', 'rural', 'bihar', 'showing', 'benefits', 'waned', 'spurious', 'consumption', 'rise', 'reportedly', 'illicit', 'liquor', 'state', 'claimed', 'least', '60', 'lives', '2021', 'much', 'higher', 'six', 'deaths', 'recorded', 'national', 'crime', 'records', 'bureau', '’', 'report', 'accidental', 'deaths', 'suicides', 'india', '2020', 'scale', 'rise', 'hooch', 'incidents', 'deaths', 'set', 'alarm', 'bells', 'ringing', 'inability', 'administration', 'curbing', 'black', 'market', 'liquor', 'sales', 'consumption', 'mr', 'kumar', 'insists', 'success', 'prohibition', 'matter', 'implementation', 'law', 'way', 'blamed', 'deaths', 'ignorance', 'consumed', 'spurious', 'liquor', 'fact', 'deaths', 'persist', 'alert', 'government', 'misgivings', 'idea', 'total', 'prohibition', 'magic', 'bullet', 'state', 'marked', 'weaknesses', 'institutions', 'low', 'overall', 'human', 'development']\n"
     ]
    }
   ],
   "source": [
    "print(final_words)"
   ]
  },
  {
   "cell_type": "markdown",
   "id": "aaf8d0bd",
   "metadata": {},
   "source": [
    "# Algorithm for Emotion and Text Analysis "
   ]
  },
  {
   "cell_type": "raw",
   "id": "cde333af",
   "metadata": {},
   "source": [
    "NLP Emotion Algorithm\n",
    "1) Check if the word in the final word list is also present in Emotions\n",
    "  - open the emotion file\n",
    "  - Loop through each line and clear it\n",
    "  - Extract the word and emotion using split\n",
    "\n",
    "2) If word is present -> Add the emotion to emotion_list\n",
    "3) Finally count each emotion in the emotion list"
   ]
  },
  {
   "cell_type": "code",
   "execution_count": 13,
   "id": "82ff9f55",
   "metadata": {},
   "outputs": [
    {
     "name": "stdout",
     "output_type": "stream",
     "text": [
      "[' obsessed', ' sad', ' esteemed', ' loved', ' sad']\n",
      "Counter({' sad': 2, ' obsessed': 1, ' esteemed': 1, ' loved': 1})\n"
     ]
    }
   ],
   "source": [
    "emotion_list = []\n",
    "\n",
    "with open('Emotions', 'r') as file:\n",
    "    for line in file:\n",
    "        clear_line = line.replace('\\n', '').replace(',','').replace(\"'\",'').strip()\n",
    "        #print(clear_line)\n",
    "        word, emotion = clear_line.split(':')\n",
    "        #print(\"word: \" +word+ \", \" + \"Emotion: \" +emotion)\n",
    "        \n",
    "        if word in final_words:\n",
    "            emotion_list.append(emotion)\n",
    "\n",
    "print(emotion_list)\n",
    "w = Counter(emotion_list)\n",
    "print(w)"
   ]
  },
  {
   "cell_type": "code",
   "execution_count": 14,
   "id": "e1a2b3d0",
   "metadata": {},
   "outputs": [
    {
     "name": "stdout",
     "output_type": "stream",
     "text": [
      "Negative Sentiment\n"
     ]
    }
   ],
   "source": [
    "def sentiment_analyse(sentiment_text):\n",
    "    score = SentimentIntensityAnalyzer().polarity_scores(sentiment_text)\n",
    "    neg = score[\"neg\"]\n",
    "    pos = score[\"pos\"]\n",
    "    if neg>pos:\n",
    "        print(\"Negative Sentiment\")\n",
    "    elif pos>neg:\n",
    "        print(\"Positive Sentiment\")\n",
    "    else:\n",
    "        print(\"Neutral Vibe\")\n",
    "    \n",
    "sentiment_analyse(clean_text)"
   ]
  },
  {
   "cell_type": "markdown",
   "id": "5229bdf3",
   "metadata": {},
   "source": [
    "# Plotting the emotions on the graph"
   ]
  },
  {
   "cell_type": "code",
   "execution_count": 15,
   "id": "f257f3a0",
   "metadata": {},
   "outputs": [],
   "source": [
    "import matplotlib.pyplot as plt"
   ]
  },
  {
   "cell_type": "code",
   "execution_count": 16,
   "id": "001c0995",
   "metadata": {},
   "outputs": [
    {
     "data": {
      "image/png": "[encoded data removed]",
      "text/plain": [
       "<Figure size 432x288 with 1 Axes>"
      ]
     },
     "metadata": {
      "needs_background": "light"
     },
     "output_type": "display_data"
    }
   ],
   "source": [
    "fig, axl = plt.subplots()\n",
    "axl.bar(w.keys(), w.values())\n",
    "fig.autofmt_xdate()\n",
    "plt.savefig(\"graph.png\")\n",
    "plt.show()"
   ]
  },
  {
   "cell_type": "code",
   "execution_count": null,
   "id": "641bee86",
   "metadata": {},
   "outputs": [],
   "source": []
  }
 ],
 "metadata": {
  "kernelspec": {
   "display_name": "Python 3 (ipykernel)",
   "language": "python",
   "name": "python3"
  },
  "language_info": {
   "codemirror_mode": {
    "name": "ipython",
    "version": 3
   },
   "file_extension": ".py",
   "mimetype": "text/x-python",
   "name": "python",
   "nbconvert_exporter": "python",
   "pygments_lexer": "ipython3",
   "version": "3.9.5"
  }
 },
 "nbformat": 4,
 "nbformat_minor": 5
}
